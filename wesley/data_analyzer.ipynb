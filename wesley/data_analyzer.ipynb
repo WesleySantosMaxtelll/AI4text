{
  "nbformat": 4,
  "nbformat_minor": 0,
  "metadata": {
    "colab": {
      "name": "data_analyzer.ipynb",
      "provenance": [],
      "machine_shape": "hm",
      "mount_file_id": "1lEOUuplvuYOIPukEVfGfQfnLKCpF60W_",
      "authorship_tag": "ABX9TyNTArt5Zp1WlK1U8vcCNLc7",
      "include_colab_link": true
    },
    "kernelspec": {
      "name": "python3",
      "display_name": "Python 3"
    },
    "language_info": {
      "name": "python"
    }
  },
  "cells": [
    {
      "cell_type": "markdown",
      "metadata": {
        "id": "view-in-github",
        "colab_type": "text"
      },
      "source": [
        "<a href=\"https://colab.research.google.com/github/WesleySantosMaxtelll/AI4text/blob/main/wesley/data_analyzer.ipynb\" target=\"_parent\"><img src=\"https://colab.research.google.com/assets/colab-badge.svg\" alt=\"Open In Colab\"/></a>"
      ]
    },
    {
      "cell_type": "code",
      "execution_count": null,
      "metadata": {
        "id": "CbYZdRrrbEVW"
      },
      "outputs": [],
      "source": [
        "import pandas as pd"
      ]
    },
    {
      "cell_type": "code",
      "source": [
        "path = '/content/drive/MyDrive/upwork/cargofax/customs_b/2018/ams__cargodesc_2018__202001290000.csv'\n",
        "df = pd.read_csv(path)"
      ],
      "metadata": {
        "id": "aO1j0UvubOXY"
      },
      "execution_count": null,
      "outputs": []
    },
    {
      "cell_type": "code",
      "source": [
        "match_strings = [\n",
        "  'address', 'telephone', 'tel ', 'tel. ', 'email', 'e-mail', 'mail', '@'\n",
        "]"
      ],
      "metadata": {
        "id": "IX32M8fTbv4E"
      },
      "execution_count": null,
      "outputs": []
    },
    {
      "cell_type": "code",
      "source": [
        "def check_str(text):\n",
        "    return any([v in text.lower() for v in match_strings])"
      ],
      "metadata": {
        "id": "hbRzkSqdclVd"
      },
      "execution_count": null,
      "outputs": []
    },
    {
      "cell_type": "code",
      "source": [
        "len(df)"
      ],
      "metadata": {
        "colab": {
          "base_uri": "https://localhost:8080/"
        },
        "id": "ZTm8bjn5fVM9",
        "outputId": "1092bd9e-b238-4377-d273-b7ee9d83f109"
      },
      "execution_count": null,
      "outputs": [
        {
          "output_type": "execute_result",
          "data": {
            "text/plain": [
              "51349840"
            ]
          },
          "metadata": {},
          "execution_count": 28
        }
      ]
    },
    {
      "cell_type": "code",
      "source": [
        "df_subset = df.iloc[:1000000]\n",
        "import time\n",
        "tm = time.time()\n",
        "df_subset = df_subset[df_subset['description_text'].apply(lambda x: check_str(str(x)))]\n",
        "print(time.time() - tm)"
      ],
      "metadata": {
        "colab": {
          "base_uri": "https://localhost:8080/"
        },
        "id": "5PmEf1JvcRYB",
        "outputId": "8844c98d-5158-4f9c-ce92-de27058b6079"
      },
      "execution_count": null,
      "outputs": [
        {
          "output_type": "stream",
          "name": "stdout",
          "text": [
            "3.275141954421997\n"
          ]
        }
      ]
    },
    {
      "cell_type": "code",
      "source": [
        "df_subset.to_csv('/content/drive/MyDrive/upwork/cargofax/no_description.csv')#.loc[225406]['description_text']#sample(n=10)"
      ],
      "metadata": {
        "id": "HvbRwqo_e8IU"
      },
      "execution_count": null,
      "outputs": []
    }
  ]
}